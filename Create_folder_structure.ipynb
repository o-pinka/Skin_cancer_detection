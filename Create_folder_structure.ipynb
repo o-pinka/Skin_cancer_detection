{
  "cells": [
    {
      "cell_type": "markdown",
      "id": "eb019f51-645f-476f-8cc0-3910ffadd4f7",
      "metadata": {
        "id": "eb019f51-645f-476f-8cc0-3910ffadd4f7"
      },
      "source": [
        "### This file is used to organize file structure accurding to diagnosis"
      ]
    },
    {
      "cell_type": "markdown",
      "id": "0233b5b3-d25a-489f-8218-2ad4eb035354",
      "metadata": {
        "id": "0233b5b3-d25a-489f-8218-2ad4eb035354"
      },
      "source": [
        "First, I have downloaded the first dataset from\n",
        "https://www.kaggle.com/datasets/rajivaiml/isic-skin-cancer-dataset, and unzipped it manually. The root folder was renamed to 'skin_cancer' to make it shorter to manipulate with. This dataset has the very simple structure to work with.\n",
        "Then I downloaded the second dataset, and put it into the project folder https://www.kaggle.com/datasets/farjanakabirsamanta/skin-cancer-dataset/data."
      ]
    },
    {
      "cell_type": "code",
      "execution_count": null,
      "id": "d97e94ce-1f92-48f8-98aa-75f08d9d9ba8",
      "metadata": {
        "id": "d97e94ce-1f92-48f8-98aa-75f08d9d9ba8"
      },
      "outputs": [],
      "source": [
        "import os\n",
        "import pandas as pd\n",
        "import shutil"
      ]
    },
    {
      "cell_type": "code",
      "execution_count": null,
      "id": "29d1e74b-8de0-4955-9c13-71e73762224a",
      "metadata": {
        "id": "29d1e74b-8de0-4955-9c13-71e73762224a"
      },
      "outputs": [],
      "source": [
        "inp_dir = 'archive'\n",
        "\n",
        "import zipfile\n",
        "with zipfile.ZipFile('archive.zip', 'r') as zip_ref:\n",
        "    zip_ref.extractall(inp_dir)"
      ]
    },
    {
      "cell_type": "code",
      "execution_count": null,
      "id": "7e4f5948-4357-4ccf-80e6-ead34ce0bfea",
      "metadata": {
        "id": "7e4f5948-4357-4ccf-80e6-ead34ce0bfea",
        "outputId": "00dab04a-9ff9-4925-ff01-d4de92d65947"
      },
      "outputs": [
        {
          "data": {
            "text/html": [
              "<div>\n",
              "<style scoped>\n",
              "    .dataframe tbody tr th:only-of-type {\n",
              "        vertical-align: middle;\n",
              "    }\n",
              "\n",
              "    .dataframe tbody tr th {\n",
              "        vertical-align: top;\n",
              "    }\n",
              "\n",
              "    .dataframe thead th {\n",
              "        text-align: right;\n",
              "    }\n",
              "</style>\n",
              "<table border=\"1\" class=\"dataframe\">\n",
              "  <thead>\n",
              "    <tr style=\"text-align: right;\">\n",
              "      <th></th>\n",
              "      <th>lesion_id</th>\n",
              "      <th>image_id</th>\n",
              "      <th>dx</th>\n",
              "      <th>dx_type</th>\n",
              "      <th>age</th>\n",
              "      <th>sex</th>\n",
              "      <th>localization</th>\n",
              "    </tr>\n",
              "  </thead>\n",
              "  <tbody>\n",
              "    <tr>\n",
              "      <th>0</th>\n",
              "      <td>HAM_0000118</td>\n",
              "      <td>ISIC_0027419</td>\n",
              "      <td>bkl</td>\n",
              "      <td>histo</td>\n",
              "      <td>80.0</td>\n",
              "      <td>male</td>\n",
              "      <td>scalp</td>\n",
              "    </tr>\n",
              "    <tr>\n",
              "      <th>1</th>\n",
              "      <td>HAM_0000118</td>\n",
              "      <td>ISIC_0025030</td>\n",
              "      <td>bkl</td>\n",
              "      <td>histo</td>\n",
              "      <td>80.0</td>\n",
              "      <td>male</td>\n",
              "      <td>scalp</td>\n",
              "    </tr>\n",
              "    <tr>\n",
              "      <th>2</th>\n",
              "      <td>HAM_0002730</td>\n",
              "      <td>ISIC_0026769</td>\n",
              "      <td>bkl</td>\n",
              "      <td>histo</td>\n",
              "      <td>80.0</td>\n",
              "      <td>male</td>\n",
              "      <td>scalp</td>\n",
              "    </tr>\n",
              "    <tr>\n",
              "      <th>3</th>\n",
              "      <td>HAM_0002730</td>\n",
              "      <td>ISIC_0025661</td>\n",
              "      <td>bkl</td>\n",
              "      <td>histo</td>\n",
              "      <td>80.0</td>\n",
              "      <td>male</td>\n",
              "      <td>scalp</td>\n",
              "    </tr>\n",
              "    <tr>\n",
              "      <th>4</th>\n",
              "      <td>HAM_0001466</td>\n",
              "      <td>ISIC_0031633</td>\n",
              "      <td>bkl</td>\n",
              "      <td>histo</td>\n",
              "      <td>75.0</td>\n",
              "      <td>male</td>\n",
              "      <td>ear</td>\n",
              "    </tr>\n",
              "    <tr>\n",
              "      <th>...</th>\n",
              "      <td>...</td>\n",
              "      <td>...</td>\n",
              "      <td>...</td>\n",
              "      <td>...</td>\n",
              "      <td>...</td>\n",
              "      <td>...</td>\n",
              "      <td>...</td>\n",
              "    </tr>\n",
              "    <tr>\n",
              "      <th>10010</th>\n",
              "      <td>HAM_0002867</td>\n",
              "      <td>ISIC_0033084</td>\n",
              "      <td>akiec</td>\n",
              "      <td>histo</td>\n",
              "      <td>40.0</td>\n",
              "      <td>male</td>\n",
              "      <td>abdomen</td>\n",
              "    </tr>\n",
              "    <tr>\n",
              "      <th>10011</th>\n",
              "      <td>HAM_0002867</td>\n",
              "      <td>ISIC_0033550</td>\n",
              "      <td>akiec</td>\n",
              "      <td>histo</td>\n",
              "      <td>40.0</td>\n",
              "      <td>male</td>\n",
              "      <td>abdomen</td>\n",
              "    </tr>\n",
              "    <tr>\n",
              "      <th>10012</th>\n",
              "      <td>HAM_0002867</td>\n",
              "      <td>ISIC_0033536</td>\n",
              "      <td>akiec</td>\n",
              "      <td>histo</td>\n",
              "      <td>40.0</td>\n",
              "      <td>male</td>\n",
              "      <td>abdomen</td>\n",
              "    </tr>\n",
              "    <tr>\n",
              "      <th>10013</th>\n",
              "      <td>HAM_0000239</td>\n",
              "      <td>ISIC_0032854</td>\n",
              "      <td>akiec</td>\n",
              "      <td>histo</td>\n",
              "      <td>80.0</td>\n",
              "      <td>male</td>\n",
              "      <td>face</td>\n",
              "    </tr>\n",
              "    <tr>\n",
              "      <th>10014</th>\n",
              "      <td>HAM_0003521</td>\n",
              "      <td>ISIC_0032258</td>\n",
              "      <td>mel</td>\n",
              "      <td>histo</td>\n",
              "      <td>70.0</td>\n",
              "      <td>female</td>\n",
              "      <td>back</td>\n",
              "    </tr>\n",
              "  </tbody>\n",
              "</table>\n",
              "<p>10015 rows × 7 columns</p>\n",
              "</div>"
            ],
            "text/plain": [
              "         lesion_id      image_id     dx dx_type   age     sex localization\n",
              "0      HAM_0000118  ISIC_0027419    bkl   histo  80.0    male        scalp\n",
              "1      HAM_0000118  ISIC_0025030    bkl   histo  80.0    male        scalp\n",
              "2      HAM_0002730  ISIC_0026769    bkl   histo  80.0    male        scalp\n",
              "3      HAM_0002730  ISIC_0025661    bkl   histo  80.0    male        scalp\n",
              "4      HAM_0001466  ISIC_0031633    bkl   histo  75.0    male          ear\n",
              "...            ...           ...    ...     ...   ...     ...          ...\n",
              "10010  HAM_0002867  ISIC_0033084  akiec   histo  40.0    male      abdomen\n",
              "10011  HAM_0002867  ISIC_0033550  akiec   histo  40.0    male      abdomen\n",
              "10012  HAM_0002867  ISIC_0033536  akiec   histo  40.0    male      abdomen\n",
              "10013  HAM_0000239  ISIC_0032854  akiec   histo  80.0    male         face\n",
              "10014  HAM_0003521  ISIC_0032258    mel   histo  70.0  female         back\n",
              "\n",
              "[10015 rows x 7 columns]"
            ]
          },
          "execution_count": 3,
          "metadata": {},
          "output_type": "execute_result"
        }
      ],
      "source": [
        "label_df=pd.read_csv(os.path.join(inp_dir,'HAM10000_metadata.csv'))\n",
        "label_df"
      ]
    },
    {
      "cell_type": "code",
      "execution_count": null,
      "id": "f55b391c-c2e7-48b4-9a95-705776cba368",
      "metadata": {
        "id": "f55b391c-c2e7-48b4-9a95-705776cba368"
      },
      "outputs": [],
      "source": [
        "dict = {'bkl' : 'seborrheic keratosis',\n",
        "        'nv' : 'nevus',\n",
        "        'df': 'dermatofibroma',\n",
        "        'mel' : 'melanoma',\n",
        "        'vasc': 'vascular lesion',\n",
        "        'bcc': 'basal cell carcinoma',\n",
        "        'akiec': 'actinic keratosis'}\n",
        "label_df = label_df.replace({\"dx\": dict})"
      ]
    },
    {
      "cell_type": "code",
      "execution_count": null,
      "id": "3ec03324-afc6-4d4d-bc2a-98ca8764ee1b",
      "metadata": {
        "id": "3ec03324-afc6-4d4d-bc2a-98ca8764ee1b",
        "outputId": "a9715e92-858b-45cb-9e5d-bd10e895be97"
      },
      "outputs": [
        {
          "name": "stdout",
          "output_type": "stream",
          "text": [
            "['seborrheic keratosis' 'nevus' 'dermatofibroma' 'melanoma'\n",
            " 'vascular lesion' 'basal cell carcinoma' 'actinic keratosis']\n",
            "Lable count:  7\n"
          ]
        }
      ],
      "source": [
        "labels = label_df['dx'].unique()\n",
        "print(labels)\n",
        "print('Lable count: ', len(labels))"
      ]
    },
    {
      "cell_type": "code",
      "execution_count": null,
      "id": "1e9b2e22-13c9-49a9-86f7-baf3eefe9a78",
      "metadata": {
        "id": "1e9b2e22-13c9-49a9-86f7-baf3eefe9a78"
      },
      "outputs": [],
      "source": [
        "train_size = 0.8"
      ]
    },
    {
      "cell_type": "code",
      "execution_count": null,
      "id": "030cc178-9bd7-4ff5-8e84-d9af4f513f33",
      "metadata": {
        "id": "030cc178-9bd7-4ff5-8e84-d9af4f513f33",
        "outputId": "aff860c1-4512-410e-c2c3-bbcce2eb131b"
      },
      "outputs": [
        {
          "data": {
            "text/html": [
              "<div>\n",
              "<style scoped>\n",
              "    .dataframe tbody tr th:only-of-type {\n",
              "        vertical-align: middle;\n",
              "    }\n",
              "\n",
              "    .dataframe tbody tr th {\n",
              "        vertical-align: top;\n",
              "    }\n",
              "\n",
              "    .dataframe thead th {\n",
              "        text-align: right;\n",
              "    }\n",
              "</style>\n",
              "<table border=\"1\" class=\"dataframe\">\n",
              "  <thead>\n",
              "    <tr style=\"text-align: right;\">\n",
              "      <th></th>\n",
              "      <th>index</th>\n",
              "      <th>dx</th>\n",
              "      <th>0</th>\n",
              "    </tr>\n",
              "  </thead>\n",
              "  <tbody>\n",
              "    <tr>\n",
              "      <th>0</th>\n",
              "      <td>0</td>\n",
              "      <td>actinic keratosis</td>\n",
              "      <td>327</td>\n",
              "    </tr>\n",
              "    <tr>\n",
              "      <th>1</th>\n",
              "      <td>1</td>\n",
              "      <td>basal cell carcinoma</td>\n",
              "      <td>514</td>\n",
              "    </tr>\n",
              "    <tr>\n",
              "      <th>2</th>\n",
              "      <td>2</td>\n",
              "      <td>dermatofibroma</td>\n",
              "      <td>115</td>\n",
              "    </tr>\n",
              "    <tr>\n",
              "      <th>3</th>\n",
              "      <td>3</td>\n",
              "      <td>melanoma</td>\n",
              "      <td>1113</td>\n",
              "    </tr>\n",
              "    <tr>\n",
              "      <th>4</th>\n",
              "      <td>4</td>\n",
              "      <td>nevus</td>\n",
              "      <td>6705</td>\n",
              "    </tr>\n",
              "    <tr>\n",
              "      <th>5</th>\n",
              "      <td>5</td>\n",
              "      <td>seborrheic keratosis</td>\n",
              "      <td>1099</td>\n",
              "    </tr>\n",
              "    <tr>\n",
              "      <th>6</th>\n",
              "      <td>6</td>\n",
              "      <td>vascular lesion</td>\n",
              "      <td>142</td>\n",
              "    </tr>\n",
              "  </tbody>\n",
              "</table>\n",
              "</div>"
            ],
            "text/plain": [
              "   index                    dx     0\n",
              "0      0     actinic keratosis   327\n",
              "1      1  basal cell carcinoma   514\n",
              "2      2        dermatofibroma   115\n",
              "3      3              melanoma  1113\n",
              "4      4                 nevus  6705\n",
              "5      5  seborrheic keratosis  1099\n",
              "6      6       vascular lesion   142"
            ]
          },
          "execution_count": 7,
          "metadata": {},
          "output_type": "execute_result"
        }
      ],
      "source": [
        "count_df = label_df.groupby('dx').size().reset_index()\n",
        "count_df\n",
        "count_df.reset_index()"
      ]
    },
    {
      "cell_type": "code",
      "execution_count": null,
      "id": "39fcf7df-c288-4e0a-94a8-a5d9791bd36f",
      "metadata": {
        "id": "39fcf7df-c288-4e0a-94a8-a5d9791bd36f",
        "outputId": "f389a0e1-b432-4f1b-c529-37778997b70d"
      },
      "outputs": [
        {
          "data": {
            "text/plain": [
              "0.6694957563654518"
            ]
          },
          "execution_count": 8,
          "metadata": {},
          "output_type": "execute_result"
        }
      ],
      "source": [
        "6705/count_df[0].sum()"
      ]
    },
    {
      "cell_type": "markdown",
      "id": "5e98a0ad-43e1-4f8a-9713-d41a2bf7f95d",
      "metadata": {
        "id": "5e98a0ad-43e1-4f8a-9713-d41a2bf7f95d"
      },
      "source": [
        "Here we see that one of two datasets is highly imbalanced. One class gives us 67% of data.\n",
        "So if the model's output is 'nevus' only, it gives us 67% accuracy, that is not correct.\n",
        "\n",
        "Let we check the second dataset."
      ]
    },
    {
      "cell_type": "code",
      "execution_count": null,
      "id": "611bb736-4635-4caa-9e86-6615c288ab32",
      "metadata": {
        "id": "611bb736-4635-4caa-9e86-6615c288ab32"
      },
      "outputs": [],
      "source": [
        "def fast_scandir(dirname):\n",
        "    subfolders= [f.path for f in os.scandir(dirname) if f.is_dir()]\n",
        "    for dirname in list(subfolders):\n",
        "        subfolders.extend(fast_scandir(dirname))\n",
        "    return subfolders"
      ]
    },
    {
      "cell_type": "code",
      "execution_count": null,
      "id": "8a610fec-3f8c-4d46-bdd2-9154339991d2",
      "metadata": {
        "id": "8a610fec-3f8c-4d46-bdd2-9154339991d2"
      },
      "outputs": [],
      "source": [
        "data_dir = 'skin_cancer'"
      ]
    },
    {
      "cell_type": "markdown",
      "id": "31e0b5ef-a9f7-4243-97ff-186386874238",
      "metadata": {
        "id": "31e0b5ef-a9f7-4243-97ff-186386874238"
      },
      "source": [
        "Two classes were deleted from the first dataset, as I decided to use only 7 classes, presented in both datasets."
      ]
    },
    {
      "cell_type": "code",
      "execution_count": null,
      "id": "320d11b0-75d4-4774-ba4c-abb61e3425c5",
      "metadata": {
        "id": "320d11b0-75d4-4774-ba4c-abb61e3425c5"
      },
      "outputs": [],
      "source": [
        "shutil.rmtree('skin_cancer/Train/squamous cell carcinoma', ignore_errors=False, onerror=None)\n",
        "shutil.rmtree('skin_cancer/Test/squamous cell carcinoma', ignore_errors=False, onerror=None)\n",
        "shutil.rmtree('skin_cancer/Train/pigmented benign keratosis', ignore_errors=False, onerror=None)\n",
        "shutil.rmtree('skin_cancer/Test/pigmented benign keratosis', ignore_errors=False, onerror=None)"
      ]
    },
    {
      "cell_type": "code",
      "execution_count": null,
      "id": "6a1fbe3f-5cd9-4649-acf8-18193c9525c9",
      "metadata": {
        "id": "6a1fbe3f-5cd9-4649-acf8-18193c9525c9",
        "outputId": "deae61c9-c36c-439d-8629-7ca5e5c077ad"
      },
      "outputs": [
        {
          "name": "stdout",
          "output_type": "stream",
          "text": [
            "melanoma :  438\n",
            "nevus :  357\n",
            "basal cell carcinoma :  376\n",
            "actinic keratosis :  114\n",
            "vascular lesion :  139\n",
            "seborrheic keratosis :  77\n",
            "dermatofibroma :  95\n"
          ]
        }
      ],
      "source": [
        "dir=fast_scandir(os.path.join(data_dir, 'Train'))\n",
        "\n",
        "for d2 in dir:\n",
        "    label = str(d2).replace( os.path.join(data_dir)+'/Train/','')\n",
        "    n_d2 = len(os.listdir(d2))\n",
        "    print(label, ': ', n_d2)"
      ]
    },
    {
      "cell_type": "code",
      "execution_count": null,
      "id": "a977689f-c94e-43c8-ace8-edfea8a70347",
      "metadata": {
        "scrolled": true,
        "id": "a977689f-c94e-43c8-ace8-edfea8a70347",
        "outputId": "3512ab92-8a08-455f-e04f-7c4f29f1bbfb"
      },
      "outputs": [
        {
          "name": "stdout",
          "output_type": "stream",
          "text": [
            "melanoma :  16\n",
            "nevus :  16\n",
            "basal cell carcinoma :  16\n",
            "actinic keratosis :  16\n",
            "vascular lesion :  3\n",
            "seborrheic keratosis :  3\n",
            "dermatofibroma :  16\n"
          ]
        }
      ],
      "source": [
        "dir=fast_scandir(os.path.join(data_dir, 'Test'))\n",
        "\n",
        "for d2 in dir:\n",
        "    label = str(d2).replace( os.path.join(data_dir)+'/Test/','')\n",
        "    n_d2 = len(os.listdir(d2))\n",
        "    print(label, ': ', n_d2)"
      ]
    },
    {
      "cell_type": "markdown",
      "id": "f382665a-9ed5-4458-87fe-6a16c39598b9",
      "metadata": {
        "id": "f382665a-9ed5-4458-87fe-6a16c39598b9"
      },
      "source": [
        "The second dataset is more or less balanced.\n",
        "So I decided to save more data for modeling, and use all files but remove some files with nevus."
      ]
    },
    {
      "cell_type": "markdown",
      "id": "47b0858b-eab5-4ebb-b352-62882caa5640",
      "metadata": {
        "id": "47b0858b-eab5-4ebb-b352-62882caa5640"
      },
      "source": [
        "I restricted it by number 1200 (which is around the numbers for 2 other dx)"
      ]
    },
    {
      "cell_type": "code",
      "execution_count": null,
      "id": "ad7c2e2b-e563-41b8-8cfd-fe6cd9c9dd94",
      "metadata": {
        "id": "ad7c2e2b-e563-41b8-8cfd-fe6cd9c9dd94"
      },
      "outputs": [],
      "source": [
        "count_dict = {}"
      ]
    },
    {
      "cell_type": "code",
      "execution_count": null,
      "id": "27171121-f900-43f3-844f-732cbe5fc8ed",
      "metadata": {
        "id": "27171121-f900-43f3-844f-732cbe5fc8ed"
      },
      "outputs": [],
      "source": [
        "for i in range(count_df.shape[0]):\n",
        "    count_dict [count_df.iloc[i, 0]] = count_df.iloc[i, 1]\n",
        "#count_dict"
      ]
    },
    {
      "cell_type": "code",
      "execution_count": null,
      "id": "c8377886-aef0-410b-870d-a5656b9e357f",
      "metadata": {
        "id": "c8377886-aef0-410b-870d-a5656b9e357f"
      },
      "outputs": [],
      "source": [
        "count_dict['nevus'] = 1200"
      ]
    },
    {
      "cell_type": "code",
      "execution_count": null,
      "id": "ddd83e3b-d51c-4835-b48a-5ec156e25307",
      "metadata": {
        "id": "ddd83e3b-d51c-4835-b48a-5ec156e25307"
      },
      "outputs": [],
      "source": [
        "img_dir= os.path.join(inp_dir, 'Skin Cancer', 'Skin Cancer')"
      ]
    },
    {
      "cell_type": "code",
      "execution_count": null,
      "id": "7a667ad8-3282-4192-a055-b9a4e8a3515f",
      "metadata": {
        "id": "7a667ad8-3282-4192-a055-b9a4e8a3515f"
      },
      "outputs": [],
      "source": [
        "counter = {}\n",
        "for label in labels:\n",
        "    counter [label] = 0"
      ]
    },
    {
      "cell_type": "code",
      "execution_count": null,
      "id": "985854a0-220b-4b8d-a614-bc51c6515a29",
      "metadata": {
        "id": "985854a0-220b-4b8d-a614-bc51c6515a29"
      },
      "outputs": [],
      "source": [
        "### Moving the image into correct folder"
      ]
    },
    {
      "cell_type": "code",
      "execution_count": null,
      "id": "eebd0e3f-2107-4024-8310-cd97b78cbe21",
      "metadata": {
        "id": "eebd0e3f-2107-4024-8310-cd97b78cbe21"
      },
      "outputs": [],
      "source": [
        "for i in range(0, label_df.shape[0]):\n",
        "\n",
        "    counter[label_df.loc[i, 'dx']] += 1\n",
        "\n",
        "    if label_df.loc[i, 'dx'] == 'nevus' and counter[label_df.loc[i, 'dx']] > count_dict['nevus']:\n",
        "        continue\n",
        "    img_path_from = os.path.join(img_dir, label_df.loc[i, 'image_id']+'.jpg')\n",
        "\n",
        "    if counter[label_df.loc[i, 'dx']] > train_size * count_dict[label_df.loc[i, 'dx']]:\n",
        "        img_path_to = os.path.join(data_dir, 'Test', label_df.loc[i, 'dx'])\n",
        "    else:\n",
        "        img_path_to = os.path.join(data_dir, 'Train', label_df.loc[i, 'dx'])\n",
        "\n",
        "    if os.path.exists(os.path.join(img_path_to, label_df.loc[i, 'image_id']+'.jpg')):\n",
        "        continue\n",
        "\n",
        "    shutil.move(img_path_from, img_path_to)"
      ]
    },
    {
      "cell_type": "markdown",
      "id": "7ebaaa3c-9bdd-4380-9c95-9b8b80be0c67",
      "metadata": {
        "id": "7ebaaa3c-9bdd-4380-9c95-9b8b80be0c67"
      },
      "source": [
        "The resulting training and testing datasets"
      ]
    },
    {
      "cell_type": "code",
      "execution_count": null,
      "id": "86aaa157-2b13-4582-9d90-eea0666a7866",
      "metadata": {
        "id": "86aaa157-2b13-4582-9d90-eea0666a7866",
        "outputId": "1f1fc328-2278-4f71-8f74-a585170d62ea"
      },
      "outputs": [
        {
          "name": "stdout",
          "output_type": "stream",
          "text": [
            "melanoma :  1328\n",
            "nevus :  1317\n",
            "basal cell carcinoma :  492\n",
            "actinic keratosis :  311\n",
            "vascular lesion :  140\n",
            "seborrheic keratosis :  956\n",
            "dermatofibroma :  114\n"
          ]
        }
      ],
      "source": [
        "dir=fast_scandir(os.path.join(data_dir, 'Train'))\n",
        "\n",
        "for d2 in dir:\n",
        "    label = str(d2).replace( os.path.join(data_dir)+'/Train/','')\n",
        "    n_d2 = len(os.listdir(d2))\n",
        "    print(label, ': ', n_d2)"
      ]
    },
    {
      "cell_type": "code",
      "execution_count": null,
      "id": "248f08cc-2026-4fbb-b3f9-3ee90cf4bc2d",
      "metadata": {
        "id": "248f08cc-2026-4fbb-b3f9-3ee90cf4bc2d",
        "outputId": "cbd1d5a6-7f01-4194-e117-7c3f9c31062d"
      },
      "outputs": [
        {
          "name": "stdout",
          "output_type": "stream",
          "text": [
            "melanoma :  239\n",
            "nevus :  256\n",
            "basal cell carcinoma :  116\n",
            "actinic keratosis :  77\n",
            "vascular lesion :  30\n",
            "seborrheic keratosis :  223\n",
            "dermatofibroma :  38\n"
          ]
        }
      ],
      "source": [
        "dir=fast_scandir(os.path.join(data_dir, 'Test'))\n",
        "\n",
        "for d2 in dir:\n",
        "    label = str(d2).replace( os.path.join(data_dir)+'/Test/','')\n",
        "    n_d2 = len(os.listdir(d2))\n",
        "    print(label, ': ', n_d2)"
      ]
    },
    {
      "cell_type": "code",
      "execution_count": null,
      "id": "67e96789-1bec-40ed-bf9b-ca498bb62e9e",
      "metadata": {
        "id": "67e96789-1bec-40ed-bf9b-ca498bb62e9e"
      },
      "outputs": [],
      "source": []
    }
  ],
  "metadata": {
    "kernelspec": {
      "display_name": "Python 3 (ipykernel)",
      "language": "python",
      "name": "python3"
    },
    "language_info": {
      "codemirror_mode": {
        "name": "ipython",
        "version": 3
      },
      "file_extension": ".py",
      "mimetype": "text/x-python",
      "name": "python",
      "nbconvert_exporter": "python",
      "pygments_lexer": "ipython3",
      "version": "3.11.5"
    },
    "colab": {
      "provenance": []
    }
  },
  "nbformat": 4,
  "nbformat_minor": 5
}